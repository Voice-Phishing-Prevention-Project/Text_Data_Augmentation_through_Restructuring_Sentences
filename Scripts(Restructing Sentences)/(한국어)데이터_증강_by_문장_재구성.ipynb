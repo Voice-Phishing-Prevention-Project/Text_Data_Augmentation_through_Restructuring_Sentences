{
  "nbformat": 4,
  "nbformat_minor": 0,
  "metadata": {
    "colab": {
      "provenance": []
    },
    "kernelspec": {
      "name": "python3",
      "display_name": "Python 3"
    },
    "language_info": {
      "name": "python"
    }
  },
  "cells": [
    {
      "cell_type": "code",
      "source": [
        "import random\n",
        "\n",
        "def sentence_rearrangement(sentence):\n",
        "    words = sentence.split()  # 문장을 단어로 분리\n",
        "    random.shuffle(words)  # 단어의 순서를 무작위로 섞음\n",
        "    new_sentence = ' '.join(words)  # 단어들을 다시 문장으로 조합\n",
        "    return new_sentence\n",
        "\n",
        "# 증강할 문장\n",
        "original_sentence = \"한국어 문장을 재구성하는 예시입니다.\"\n",
        "\n",
        "# 문장 재구성을 통한 데이터 증강\n",
        "augmented_sentences = []\n",
        "for _ in range(5):  # 5개의 재구성된 문장 생성\n",
        "    augmented_sentence = sentence_rearrangement(original_sentence)\n",
        "    augmented_sentences.append(augmented_sentence)\n",
        "\n",
        "# 결과 출력\n",
        "print(\"원본 문장:\", original_sentence)\n",
        "print(\"증강된 문장:\")\n",
        "for sentence in augmented_sentences:\n",
        "    print(sentence)\n"
      ],
      "metadata": {
        "colab": {
          "base_uri": "https://localhost:8080/"
        },
        "id": "gw_1KXfczCbf",
        "outputId": "d989d22c-b454-44b7-e020-ab5acc2b712d"
      },
      "execution_count": 4,
      "outputs": [
        {
          "output_type": "stream",
          "name": "stdout",
          "text": [
            "원본 문장: 한국어 문장을 재구성하는 예시입니다.\n",
            "증강된 문장:\n",
            "예시입니다. 재구성하는 문장을 한국어\n",
            "재구성하는 한국어 문장을 예시입니다.\n",
            "예시입니다. 재구성하는 문장을 한국어\n",
            "재구성하는 문장을 한국어 예시입니다.\n",
            "한국어 문장을 재구성하는 예시입니다.\n"
          ]
        }
      ]
    }
  ]
}