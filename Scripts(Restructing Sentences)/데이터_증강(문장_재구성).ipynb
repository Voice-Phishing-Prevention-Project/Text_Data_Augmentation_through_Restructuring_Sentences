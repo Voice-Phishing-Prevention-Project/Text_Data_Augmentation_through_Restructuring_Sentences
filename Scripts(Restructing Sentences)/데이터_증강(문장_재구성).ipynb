{
  "nbformat": 4,
  "nbformat_minor": 0,
  "metadata": {
    "colab": {
      "provenance": []
    },
    "kernelspec": {
      "name": "python3",
      "display_name": "Python 3"
    },
    "language_info": {
      "name": "python"
    }
  },
  "cells": [
    {
      "cell_type": "code",
      "execution_count": 1,
      "metadata": {
        "id": "C0Kp5q76SUsA"
      },
      "outputs": [],
      "source": [
        "import random\n",
        "\n",
        "def sentence_rearrangement(sentence):\n",
        "    words = sentence.split()  # 문장을 단어로 분리\n",
        "    random.shuffle(words)  # 단어의 순서를 무작위로 섞음\n",
        "    new_sentence = ' '.join(words)  # 단어들을 다시 문장으로 조합\n",
        "    return new_sentence"
      ]
    },
    {
      "cell_type": "code",
      "source": [
        "# 증강할 문장\n",
        "original_sentence = \"This is an example sentence for data augmentation.\"\n",
        "\n",
        "# 문장 재구성을 통한 데이터 증강\n",
        "augmented_sentences = []\n",
        "for _ in range(5):  # 5개의 재구성된 문장 생성\n",
        "    augmented_sentence = sentence_rearrangement(original_sentence)\n",
        "    augmented_sentences.append(augmented_sentence)"
      ],
      "metadata": {
        "id": "8LiuMDWHwtGK"
      },
      "execution_count": 2,
      "outputs": []
    },
    {
      "cell_type": "code",
      "source": [
        "# 결과 출력\n",
        "print(\"Original sentence:\", original_sentence)\n",
        "print(\"Augmented sentences:\")\n",
        "for sentence in augmented_sentences:\n",
        "    print(sentence)"
      ],
      "metadata": {
        "colab": {
          "base_uri": "https://localhost:8080/"
        },
        "id": "W5boVGk8wwb5",
        "outputId": "5909b01a-4db7-4473-cf6c-34477d17ee92"
      },
      "execution_count": 3,
      "outputs": [
        {
          "output_type": "stream",
          "name": "stdout",
          "text": [
            "Original sentence: This is an example sentence for data augmentation.\n",
            "Augmented sentences:\n",
            "an data is This for sentence example augmentation.\n",
            "sentence example an is This for augmentation. data\n",
            "is data This example an sentence augmentation. for\n",
            "This for example is data sentence augmentation. an\n",
            "This for example data sentence is augmentation. an\n"
          ]
        }
      ]
    }
  ]
}